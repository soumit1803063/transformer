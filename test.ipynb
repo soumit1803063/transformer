{
 "cells": [
  {
   "cell_type": "code",
   "execution_count": 1,
   "metadata": {},
   "outputs": [],
   "source": [
    "import torch\n",
    "from components.layers import InputEmbeddingLayer,PositionalEncodingLayer,LayerNormalizationLayer\n",
    "from components.blocks import ResidualBlock, MultiHeadAttentionBlock, FeedForwardBlock\n",
    "from models.blocks import EncoderBlock"
   ]
  },
  {
   "cell_type": "code",
   "execution_count": 2,
   "metadata": {},
   "outputs": [],
   "source": [
    "model_dimension = 8\n",
    "num_heads = 4\n",
    "sequence_length = 3\n",
    "dropout_rate = 0.1\n",
    "vocab_size = 10000\n",
    "batch_size = 2\n",
    "features = 1"
   ]
  },
  {
   "cell_type": "code",
   "execution_count": 3,
   "metadata": {},
   "outputs": [
    {
     "data": {
      "text/plain": [
       "tensor([[8971, 7504,   80],\n",
       "        [7841, 4771, 9184]])"
      ]
     },
     "execution_count": 3,
     "metadata": {},
     "output_type": "execute_result"
    }
   ],
   "source": [
    "input_tensor = torch.randint(0, vocab_size, (batch_size, sequence_length))\n",
    "input_tensor"
   ]
  },
  {
   "cell_type": "code",
   "execution_count": 4,
   "metadata": {},
   "outputs": [
    {
     "data": {
      "text/plain": [
       "tensor([[[-1.5317,  1.6170,  0.9382, -1.4644, -3.2935,  0.5678, -0.5085,\n",
       "           1.5592],\n",
       "         [-2.5733, -3.5791,  2.7388,  1.5280, -0.4437, -4.8860, -4.5439,\n",
       "          -0.5862],\n",
       "         [ 1.5455, -5.8299, -5.1195, -1.9280,  4.1834,  2.9487,  1.1462,\n",
       "           1.4685]],\n",
       "\n",
       "        [[-3.8306, -1.0888, -1.1763, -1.6814, -6.4480, -4.5212, -1.4485,\n",
       "          -0.4964],\n",
       "         [ 4.0643, -3.8461,  1.1578,  2.1855, -2.1287, -6.6000,  8.3749,\n",
       "           1.4199],\n",
       "         [-3.1706,  4.2754,  1.0337, -0.1314,  0.7583,  0.5872,  5.2470,\n",
       "           1.0315]]], grad_fn=<MulBackward0>)"
      ]
     },
     "execution_count": 4,
     "metadata": {},
     "output_type": "execute_result"
    }
   ],
   "source": [
    "input_embedding_layer = InputEmbeddingLayer(model_dimension,vocab_size)\n",
    "input_embedding_layer_output = input_embedding_layer(input_tensor)\n",
    "input_embedding_layer_output"
   ]
  },
  {
   "cell_type": "code",
   "execution_count": 5,
   "metadata": {},
   "outputs": [
    {
     "data": {
      "text/plain": [
       "torch.Size([2, 3, 8])"
      ]
     },
     "execution_count": 5,
     "metadata": {},
     "output_type": "execute_result"
    }
   ],
   "source": [
    "input_embedding_layer_output.size()"
   ]
  },
  {
   "cell_type": "code",
   "execution_count": 6,
   "metadata": {},
   "outputs": [
    {
     "data": {
      "text/plain": [
       "tensor([[[-1.7019,  2.9078,  0.0000, -0.5160, -3.6595,  1.7420, -0.5650,\n",
       "           2.8435],\n",
       "         [-1.9242, -3.3765,  3.1540,  2.8033, -0.4819, -4.3178, -5.0477,\n",
       "           0.4597],\n",
       "         [ 0.0000, -0.0000, -5.4676, -1.0533,  4.6705,  4.3873,  1.2758,\n",
       "           2.7427]],\n",
       "\n",
       "        [[-0.0000, -0.0986, -1.3070, -0.7572, -0.0000, -3.9125, -1.6095,\n",
       "           0.0000],\n",
       "         [ 0.0000, -3.6731,  1.3974,  3.5339, -2.3541, -6.2223,  9.3066,\n",
       "           2.6888],\n",
       "         [-2.5125,  4.2881,  1.3693,  0.9429,  0.8647,  1.7633,  0.0000,\n",
       "           0.0000]]], grad_fn=<MulBackward0>)"
      ]
     },
     "execution_count": 6,
     "metadata": {},
     "output_type": "execute_result"
    }
   ],
   "source": [
    "positional_encoding_layer = PositionalEncodingLayer(model_dimension, sequence_length, dropout_rate)\n",
    "positional_encoding_layer_output = positional_encoding_layer(input_embedding_layer_output)\n",
    "positional_encoding_layer_output\n"
   ]
  },
  {
   "cell_type": "code",
   "execution_count": 7,
   "metadata": {},
   "outputs": [],
   "source": [
    "mhab = MultiHeadAttentionBlock(model_dimension,num_heads,dropout_rate)\n"
   ]
  },
  {
   "cell_type": "code",
   "execution_count": 8,
   "metadata": {},
   "outputs": [],
   "source": [
    "rbs = [ResidualBlock(features,dropout_rate),ResidualBlock(features,dropout_rate)]\n"
   ]
  },
  {
   "cell_type": "code",
   "execution_count": 9,
   "metadata": {},
   "outputs": [],
   "source": [
    "lns = [LayerNormalizationLayer(features,10**(-6)),\n",
    "       LayerNormalizationLayer(features,10**(-6))]"
   ]
  },
  {
   "cell_type": "code",
   "execution_count": 10,
   "metadata": {},
   "outputs": [],
   "source": [
    "ffb = FeedForwardBlock(model_dimension,\n",
    "                       100,\n",
    "                       dropout_rate)"
   ]
  },
  {
   "cell_type": "code",
   "execution_count": 11,
   "metadata": {},
   "outputs": [],
   "source": [
    "eb= EncoderBlock(mhab, ffb, rbs, lns)"
   ]
  },
  {
   "cell_type": "code",
   "execution_count": 12,
   "metadata": {},
   "outputs": [
    {
     "data": {
      "text/plain": [
       "tensor([[[-0.6176,  0.7960, -0.1014,  0.0548, -1.7403,  0.6858, -0.5502,\n",
       "           1.4731],\n",
       "         [-0.2151, -0.5907,  1.2849,  1.3928,  0.4261, -1.1185, -1.2552,\n",
       "           0.0757],\n",
       "         [-0.3106, -0.4211, -1.7776, -0.3636,  1.2568,  1.2728, -0.1249,\n",
       "           0.4682]],\n",
       "\n",
       "        [[ 0.8003,  0.5285, -0.1961,  0.1286,  0.7516, -2.1915, -0.4771,\n",
       "           0.6557],\n",
       "         [ 0.1507, -0.9010,  0.2425,  0.7832, -0.3771, -1.7419,  1.4774,\n",
       "           0.3662],\n",
       "         [-1.6815,  1.8600,  0.2987,  0.1886, -0.1449,  0.1917, -0.7282,\n",
       "           0.0156]]], grad_fn=<AddBackward0>)"
      ]
     },
     "execution_count": 12,
     "metadata": {},
     "output_type": "execute_result"
    }
   ],
   "source": [
    "eb(positional_encoding_layer_output,None)"
   ]
  },
  {
   "cell_type": "code",
   "execution_count": null,
   "metadata": {},
   "outputs": [],
   "source": []
  }
 ],
 "metadata": {
  "kernelspec": {
   "display_name": "llm",
   "language": "python",
   "name": "python3"
  },
  "language_info": {
   "codemirror_mode": {
    "name": "ipython",
    "version": 3
   },
   "file_extension": ".py",
   "mimetype": "text/x-python",
   "name": "python",
   "nbconvert_exporter": "python",
   "pygments_lexer": "ipython3",
   "version": "3.11.10"
  }
 },
 "nbformat": 4,
 "nbformat_minor": 2
}
